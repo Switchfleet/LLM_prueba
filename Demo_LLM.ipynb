{
 "cells": [
  {
   "cell_type": "code",
   "execution_count": 10,
   "id": "78f48d62-3b9b-4956-ba05-0dadc22967b4",
   "metadata": {},
   "outputs": [],
   "source": [
    "from fastapi import FastAPI, HTTPException\n",
    "from pydantic import BaseModel\n",
    "from typing import Optional\n",
    "from bs4 import BeautifulSoup\n",
    "import requests\n",
    "import json\n",
    "import nest_asyncio\n",
    "import uvicorn"
   ]
  },
  {
   "cell_type": "code",
   "execution_count": null,
   "id": "916bb860-00d2-4e31-bc72-e79613b71d32",
   "metadata": {},
   "outputs": [],
   "source": [
    "def extract_text_from_url(url):\n",
    "    response = requests.get(url)\n",
    "    soup = BeautifulSoup(response.text, 'html.parser')\n",
    "\n",
    "    # Extraer el texto de los párrafos\n",
    "    paragraphs = soup.find_all('p')\n",
    "    text = ' '.join([para.get_text() for para in paragraphs])\n",
    "    \n",
    "    return text"
   ]
  },
  {
   "cell_type": "code",
   "execution_count": null,
   "id": "fb4273bd-dad2-4b8d-9296-19bc36bb6e2c",
   "metadata": {},
   "outputs": [],
   "source": [
    "#Esto es una funcion que incluye el prompt\n",
    "def generate_vehicle_specs(url, description):\n",
    "    context = extract_text_from_url(url)\n",
    "    \n",
    "    prompt_template = \"\"\"\n",
    "        You are an assistant that extracts technical specifications for vehicles. Given a car, extract and return the data in JSON format with the following fields:\n",
    "\n",
    "        1. \"brand\" (string): The brand of the vehicle (e.g., \"Toyota\").\n",
    "        2. \"model\" (string): The model of the vehicle (e.g., \"Corolla\").\n",
    "        3. \"version\" (string): The version or complete version of the vehicle (if applicable).\n",
    "        4. \"year\" (integer): The year of manufacturing of the vehicle.\n",
    "        5. \"body_type\" (string): The type of the vehicle's body (e.g., \"sedan\", \"SUV\").\n",
    "        6. \"doors\" (integer): The number of doors the vehicle has.\n",
    "        7. \"status\" (string): Whether the vehicle is currently \"for sale\", \"discontinued\", or other relevant status.\n",
    "        8. \"length\" (integer): The length of the vehicle in millimeters (mm).\n",
    "        9. \"seats\" (integer): The number of seats in the vehicle.\n",
    "        10. \"price\" (number): The price of the vehicle in euros (€).\n",
    "        11. \"technology\" (string): The technology of the vehicle (e.g., \"hybrid\", \"electric\", \"combustion\").\n",
    "        12. \"transmission\" (string): The type of transmission (e.g., \"manual\", \"automatic\").\n",
    "        13. \"fuel_consumption\" (number): The combined fuel consumption in liters per 100 kilometers (l/100km).\n",
    "        14. \"fuel_type\" (string): The type of fuel the vehicle uses (e.g., \"gasoline\", \"diesel\", \"electric\").\n",
    "        15. \"electric_range\" (integer): The electric range of the vehicle in kilometers (km), if applicable.\n",
    "        16. \"battery_capacity\" (number): The gross or net capacity of the battery in kilowatt-hours (kWh), if applicable.\n",
    "        17. \"electric_consumption\" (number): The combined electric consumption in kilowatt-hours per 100 kilometers (kWh/100km), if applicable.\n",
    "        18. \"charging_time\" (number): The charging time in alternating current (AC) in hours (h), if applicable.\n",
    "        19. \"duplicate_date\" (string): A date that helps to distinguish between duplicates in the format \"MMM-YY\" (e.g., \"Sep-24\").\n",
    "        20. \"max_power\" (object): The maximum power of the vehicle in horsepower (CV) and kilowatts (kW).\n",
    "            - \"cv\" (integer): Horsepower of the vehicle.\n",
    "            - \"kw\" (integer): Kilowatts of the vehicle.\n",
    "        21. \"acceleration\" (number): The time it takes to accelerate from 0 to 100 km/h in seconds.\n",
    "        22. \"displacement\" (integer): The engine displacement in cubic centimeters (cc).\n",
    "        23. \"environmental_label\" (string): The vehicle's environmental label (e.g., \"Euro 6\").\n",
    "        24. \"co2_emissions\" (number): The CO2 emissions in grams per kilometer (gCO2/km).\n",
    "        25. \"tank_capacity\" (number): The fuel tank capacity in liters (l) or kilograms (kg), depending on fuel type.\n",
    "        26. \"max_speed\" (number): The maximum speed of the vehicle in kilometers per hour (km/h).\n",
    "        27. \"maintenance_costs\" (number): The monthly maintenance costs in euros per month (€/month).\n",
    "        28. \"euro_ncap_rating\" (integer): The EuroNCAP rating in stars.\n",
    "        \n",
    "        Return the result in JSON format. If a value is not available, set it to `null`.\n",
    "\n",
    "        Here is the description of the vehicle: {description}\n",
    "    \"\"\"\n",
    "\n",
    "    # Utilizar el PromptTemplate de LangChain\n",
    "    prompt = PromptTemplate(\n",
    "        input_variables=[\"description\"],\n",
    "        template=prompt_template\n",
    "    )\n",
    "    \n",
    "    # Usamos la descripción extraída de la web como input\n",
    "    final_prompt = prompt.format(description=context[:2000])  # Limitamos el texto si es demasiado largo\n",
    "    \n",
    "    # Llamamos al modelo LLM de OpenAI para generar la respuesta\n",
    "    response = llm(final_prompt)\n",
    "    \n",
    "    # Convertimos la respuesta a JSON\n",
    "    try:\n",
    "        vehicle_specs = json.loads(response)\n",
    "    except json.JSONDecodeError:\n",
    "        vehicle_specs = {\"error\": \"No se pudo generar el JSON correctamente.\"}\n",
    "    \n",
    "    return vehicle_specs"
   ]
  },
  {
   "cell_type": "code",
   "execution_count": 8,
   "id": "61aa9b2a-a098-4e53-91cd-650bb6ab8017",
   "metadata": {},
   "outputs": [],
   "source": [
    "# Configura la API Key de OpenAI\n",
    "os.environ[\"OPENAI_API_KEY\"] = \"\""
   ]
  },
  {
   "cell_type": "code",
   "execution_count": 9,
   "id": "b6e2a89a-9ded-4fe3-a873-24daccb67580",
   "metadata": {},
   "outputs": [],
   "source": [
    "# Crear el objeto OpenAI LLM\n",
    "llm = ChatOpenAI(model=\"gpt-4o-mini\")"
   ]
  },
  {
   "cell_type": "code",
   "execution_count": null,
   "id": "adf8843e-99a5-488c-a442-47329aa7f86c",
   "metadata": {},
   "outputs": [],
   "source": [
    "# Activar asyncio para permitir que el servidor corra en un notebook\n",
    "nest_asyncio.apply()\n",
    "\n",
    "# Crear la instancia de la aplicación FastAPI\n",
    "app = FastAPI()\n",
    "\n",
    "# Modelo de datos para la solicitud\n",
    "class VehicleRequest(BaseModel):\n",
    "    url: Optional[str] = None\n",
    "    description: Optional[str] = None"
   ]
  },
  {
   "cell_type": "code",
   "execution_count": null,
   "id": "8aef597d-a16d-40bc-8bb6-f005e336b7ad",
   "metadata": {},
   "outputs": [],
   "source": [
    "# Ruta POST para recibir la descripción del vehículo o la URL\n",
    "@app.post(\"/extract_specs/\")\n",
    "async def extract_vehicle_specs(request: VehicleRequest):\n",
    "    if request.url:\n",
    "        try:\n",
    "            # Extraer la descripción desde la URL si se proporciona\n",
    "            description = extract_text_from_url(request.url)\n",
    "        except Exception as e:\n",
    "            raise HTTPException(status_code=400, detail=\"No se pudo extraer la descripción desde la URL proporcionada.\")\n",
    "    elif request.description:\n",
    "        # Usar la descripción proporcionada en el cuerpo del request\n",
    "        description = request.description\n",
    "    else:\n",
    "        raise HTTPException(status_code=400, detail=\"Debe proporcionar una URL o una descripción del vehículo.\")\n",
    "    \n",
    "    # Generar las especificaciones del vehículo en JSON usando la descripción\n",
    "    vehicle_specs = generate_vehicle_specs(description)\n",
    "    \n",
    "    return vehicle_specs"
   ]
  },
  {
   "cell_type": "code",
   "execution_count": null,
   "id": "5b154461-f979-4892-b6a6-502b62168a9c",
   "metadata": {},
   "outputs": [],
   "source": [
    "# Esto aqui no se si va a funcionar, degeria ser para un .py\n",
    "# Esto aqui no va a funcionar \n",
    "if __name__ == \"__main__\":\n",
    "    uvicorn.run(app, host=\"0.0.0.0\", port=8000)"
   ]
  }
 ],
 "metadata": {
  "kernelspec": {
   "display_name": "Python 3 (ipykernel)",
   "language": "python",
   "name": "python3"
  },
  "language_info": {
   "codemirror_mode": {
    "name": "ipython",
    "version": 3
   },
   "file_extension": ".py",
   "mimetype": "text/x-python",
   "name": "python",
   "nbconvert_exporter": "python",
   "pygments_lexer": "ipython3",
   "version": "3.12.2"
  }
 },
 "nbformat": 4,
 "nbformat_minor": 5
}
